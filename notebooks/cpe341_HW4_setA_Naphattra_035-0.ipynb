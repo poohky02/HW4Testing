{
 "cells": [
  {
   "cell_type": "code",
   "execution_count": 3,
   "metadata": {
    "collapsed": false
   },
   "outputs": [
    {
     "data": {
      "text/plain": [
       "'2017-02-10T02:35:36.066377'"
      ]
     },
     "execution_count": 3,
     "metadata": {},
     "output_type": "execute_result"
    }
   ],
   "source": [
    "## รหัสประจำตัวนักศึกษา : 57113035-0\n",
    "## ชื่อนักศึกษา : ณภัทรา ชัยยะยางกูร\n",
    "##\n",
    "## คลิก Run cell นี้เพียงครั้งเดียว\n",
    "##\n",
    "##\n",
    "import datetime\n",
    "datetime.datetime.now().isoformat()"
   ]
  },
  {
   "cell_type": "markdown",
   "metadata": {},
   "source": [
    "# Question 1 ( @2 pt x 2 = 4 pts )\n",
    "Q1.a\n",
    "จงเขียนคำสั่ง เพื่อพิมพ์ค่าตัวเลข ที่ index = 3 ใน list mynumbers ต่อไปนี้"
   ]
  },
  {
   "cell_type": "code",
   "execution_count": 35,
   "metadata": {
    "collapsed": true
   },
   "outputs": [],
   "source": [
    "## ไม่แก้ไขข้อมูลใน cell นี้\n",
    "\n",
    "mynumbers = [91, 91, 57, 56, 62, 75, 55, 90, 56]"
   ]
  },
  {
   "cell_type": "code",
   "execution_count": 37,
   "metadata": {
    "collapsed": false
   },
   "outputs": [
    {
     "data": {
      "text/plain": [
       "56"
      ]
     },
     "execution_count": 37,
     "metadata": {},
     "output_type": "execute_result"
    }
   ],
   "source": [
    "## ANSWER Q1.a\n",
    "##\n",
    "mynumbers[3]"
   ]
  },
  {
   "cell_type": "markdown",
   "metadata": {},
   "source": [
    "# Q1.b\n",
    "จงเขียนคำสั่ง เพื่อพิมพ์ตัวเลขที่มีค่ามากกว่า 80 จาก list ในข้อ (1.a)"
   ]
  },
  {
   "cell_type": "code",
   "execution_count": 63,
   "metadata": {
    "collapsed": false
   },
   "outputs": [
    {
     "name": "stdout",
     "output_type": "stream",
     "text": [
      "91\n",
      "91\n",
      "90\n"
     ]
    }
   ],
   "source": [
    "## ANSWER Q1.b\n",
    "## \n",
    "number=[]\n",
    "for  i in range(0,8):\n",
    "    if mynumbers[i] > 80:\n",
    "        print(mynumbers[i])\n"
   ]
  },
  {
   "cell_type": "markdown",
   "metadata": {},
   "source": [
    "# Question 2 ( @3 pts x 4 = 12 pts )\n",
    "Q2.a\n",
    "จงสร้าง list เพื่อเก็บข้อมูลตัวเลขคี่ 101 - 499 โดยใข้ range"
   ]
  },
  {
   "cell_type": "code",
   "execution_count": 64,
   "metadata": {
    "collapsed": false
   },
   "outputs": [
    {
     "name": "stdout",
     "output_type": "stream",
     "text": [
      "101\n",
      "103\n",
      "105\n",
      "107\n",
      "109\n",
      "111\n",
      "113\n",
      "115\n",
      "117\n",
      "119\n",
      "121\n",
      "123\n",
      "125\n",
      "127\n",
      "129\n",
      "131\n",
      "133\n",
      "135\n",
      "137\n",
      "139\n",
      "141\n",
      "143\n",
      "145\n",
      "147\n",
      "149\n",
      "151\n",
      "153\n",
      "155\n",
      "157\n",
      "159\n",
      "161\n",
      "163\n",
      "165\n",
      "167\n",
      "169\n",
      "171\n",
      "173\n",
      "175\n",
      "177\n",
      "179\n",
      "181\n",
      "183\n",
      "185\n",
      "187\n",
      "189\n",
      "191\n",
      "193\n",
      "195\n",
      "197\n",
      "199\n",
      "201\n",
      "203\n",
      "205\n",
      "207\n",
      "209\n",
      "211\n",
      "213\n",
      "215\n",
      "217\n",
      "219\n",
      "221\n",
      "223\n",
      "225\n",
      "227\n",
      "229\n",
      "231\n",
      "233\n",
      "235\n",
      "237\n",
      "239\n",
      "241\n",
      "243\n",
      "245\n",
      "247\n",
      "249\n",
      "251\n",
      "253\n",
      "255\n",
      "257\n",
      "259\n",
      "261\n",
      "263\n",
      "265\n",
      "267\n",
      "269\n",
      "271\n",
      "273\n",
      "275\n",
      "277\n",
      "279\n",
      "281\n",
      "283\n",
      "285\n",
      "287\n",
      "289\n",
      "291\n",
      "293\n",
      "295\n",
      "297\n",
      "299\n",
      "301\n",
      "303\n",
      "305\n",
      "307\n",
      "309\n",
      "311\n",
      "313\n",
      "315\n",
      "317\n",
      "319\n",
      "321\n",
      "323\n",
      "325\n",
      "327\n",
      "329\n",
      "331\n",
      "333\n",
      "335\n",
      "337\n",
      "339\n",
      "341\n",
      "343\n",
      "345\n",
      "347\n",
      "349\n",
      "351\n",
      "353\n",
      "355\n",
      "357\n",
      "359\n",
      "361\n",
      "363\n",
      "365\n",
      "367\n",
      "369\n",
      "371\n",
      "373\n",
      "375\n",
      "377\n",
      "379\n",
      "381\n",
      "383\n",
      "385\n",
      "387\n",
      "389\n",
      "391\n",
      "393\n",
      "395\n",
      "397\n",
      "399\n",
      "401\n",
      "403\n",
      "405\n",
      "407\n",
      "409\n",
      "411\n",
      "413\n",
      "415\n",
      "417\n",
      "419\n",
      "421\n",
      "423\n",
      "425\n",
      "427\n",
      "429\n",
      "431\n",
      "433\n",
      "435\n",
      "437\n",
      "439\n",
      "441\n",
      "443\n",
      "445\n",
      "447\n",
      "449\n",
      "451\n",
      "453\n",
      "455\n",
      "457\n",
      "459\n",
      "461\n",
      "463\n",
      "465\n",
      "467\n",
      "469\n",
      "471\n",
      "473\n",
      "475\n",
      "477\n",
      "479\n",
      "481\n",
      "483\n",
      "485\n",
      "487\n",
      "489\n",
      "491\n",
      "493\n",
      "495\n",
      "497\n"
     ]
    }
   ],
   "source": [
    "## ANSWER Q2.a\n",
    "##\n",
    "for i in range(101,499):\n",
    "    b = 0\n",
    "    b=i%2 \n",
    "    if(b!=0):\n",
    "        print(i) "
   ]
  },
  {
   "cell_type": "markdown",
   "metadata": {},
   "source": [
    "# Q2.b\n",
    "จงสร้าง list เพื่อเก็บตัวเลขสุ่ม ในช่วง 1-999 จำนวน 5 ตัวเลข โดยใข้ฟังก์ชั่น randint จากไลบรารี random"
   ]
  },
  {
   "cell_type": "code",
   "execution_count": 66,
   "metadata": {
    "collapsed": false
   },
   "outputs": [
    {
     "name": "stdout",
     "output_type": "stream",
     "text": [
      "140\n",
      "569\n",
      "862\n",
      "105\n"
     ]
    }
   ],
   "source": [
    "## ANSWER Q2.b\n",
    "##\n",
    "from random import randint\n",
    "for i in range(0,4):\n",
    "    r = randint( 1, 999 )\n",
    "    print (r)"
   ]
  },
  {
   "cell_type": "markdown",
   "metadata": {},
   "source": [
    "# Q2.c\n",
    "จงหาผลรวมของ list ต่อไปนี้แล้วเก็บไว้ที่ตัวแปรชื่อ myTotal โดยใข้ฟังก์ชั่น sum\n",
    "myTest = [98, 99, 88, 86, 92]"
   ]
  },
  {
   "cell_type": "code",
   "execution_count": 69,
   "metadata": {
    "collapsed": false
   },
   "outputs": [
    {
     "name": "stdout",
     "output_type": "stream",
     "text": [
      "463\n"
     ]
    }
   ],
   "source": [
    "## ANSWER Q2.c\n",
    "##\n",
    "## \n",
    "myTest = [98, 99, 88, 86, 92]\n",
    "myTotal = sum(myTest)\n",
    "print(myTotal)"
   ]
  },
  {
   "cell_type": "raw",
   "metadata": {},
   "source": [
    "# Q2.d\n",
    "จงเขียน def ชื่อ average สำหรับหาค่าเฉี่ยของตัวเลขใน list ที่เป็น argument\n",
    "เช่น เมื่อเรียกใช้ average([3,1,2,4,3,1]) จะได้ผลลัพธ์ 2.33333333333\n",
    "Hint:__ ใช้ฟังก์ชัน sum และ len เพื่อหาค่าเฉลี่ย"
   ]
  },
  {
   "cell_type": "code",
   "execution_count": 77,
   "metadata": {
    "collapsed": false
   },
   "outputs": [
    {
     "name": "stdout",
     "output_type": "stream",
     "text": [
      "None\n"
     ]
    }
   ],
   "source": [
    "## ANSWER Q2.d\n",
    "##\n",
    "## \n",
    "def average(numslist):\n",
    "    pass \n",
    "    avg = average([3,1,2,4,3,1])\n",
    "print(avg)"
   ]
  },
  {
   "cell_type": "code",
   "execution_count": 17,
   "metadata": {
    "collapsed": true
   },
   "outputs": [],
   "source": [
    "## Test averager() \n",
    "average([3,1,2,4,3,1])"
   ]
  },
  {
   "cell_type": "code",
   "execution_count": 18,
   "metadata": {
    "collapsed": false
   },
   "outputs": [
    {
     "name": "stdout",
     "output_type": "stream",
     "text": [
      "[1, 6, 11, 16, 21, 26, 31, 36, 41, 46]\n"
     ]
    }
   ],
   "source": [
    "## Test average() again\n",
    "mynums = [i for i in range(1,51,5) ]\n",
    "\n",
    "print(mynums)\n",
    "average(mynums)\n",
    "#\n",
    "# [1, 6, 11, 16, 21, 26, 31, 36, 41, 46]"
   ]
  },
  {
   "cell_type": "markdown",
   "metadata": {},
   "source": [
    "# Question 3 ( @6 pts x 2 = 12 pts )\n",
    "Q3.a\n",
    "กำหนดให้ dict THAI_COINS เก็บค่าเงินของเหรียญไทย 6 ชนิด (ใช้ในคำถาม Q3.b)\n",
    "จงหาจำนวนเหรียญทั้งหมดใน list mypiggy ซึ่งเป็นกระปุกเงินเก็บเหรียญ"
   ]
  },
  {
   "cell_type": "code",
   "execution_count": 79,
   "metadata": {
    "collapsed": true
   },
   "outputs": [],
   "source": [
    "## ไม่แก้ไขข้อมูลใน cell นี้\n",
    "\n",
    "THAI_COINS = {\n",
    "    \"25S\": 0.25, \"50S\": 0.50, \"1B\": 1, \"2B\": 2, \"5B\": 5, \"10B\": 10\n",
    "}\n",
    "\n",
    "## mypiggy keeps the number of Thai coins \n",
    "mypiggy = {\n",
    "    \"25S\": 1, \"50S\": 8, \"1B\": 4, \"2B\": 12\n",
    "}"
   ]
  },
  {
   "cell_type": "code",
   "execution_count": 92,
   "metadata": {
    "collapsed": false
   },
   "outputs": [
    {
     "name": "stdout",
     "output_type": "stream",
     "text": [
      "จำนวนเหรียญ : 25\n"
     ]
    }
   ],
   "source": [
    "## ANSWER Q3.a\n",
    "## หาจำนวนเหรียญทั้งหมดใน mypiggy\n",
    "##\n",
    "numbb = (mypiggy.values())\n",
    "print(\"จำนวนเหรียญ : {}\".format(sum(numbb)))"
   ]
  },
  {
   "cell_type": "markdown",
   "metadata": {},
   "source": [
    "# Q3.b\n",
    "จงหามูลค่าของเงินทั้งหมดใน list mypiggy (หน่วย: บาท)"
   ]
  },
  {
   "cell_type": "code",
   "execution_count": 119,
   "metadata": {
    "collapsed": false
   },
   "outputs": [
    {
     "name": "stdout",
     "output_type": "stream",
     "text": [
      "32.25\n"
     ]
    }
   ],
   "source": [
    "## ANSWER Q3.b\n",
    "##\n",
    "##\n",
    "nuum= (mypiggy[\"25S\"]*0.25)+(mypiggy[\"50S\"]*0.50)+(mypiggy[\"1B\"]*1)+(mypiggy[\"2B\"]*2)\n",
    "print(nuum)"
   ]
  },
  {
   "cell_type": "markdown",
   "metadata": {},
   "source": [
    "# Question 4 ( @6 pts x 2 = 12 pts )\n",
    "Q4.a\n",
    "จาก class Die ที่กำหนดให้ จงสร้างลูกเต๋าเก็บไว้ใน list ชื่อ my2dice สองลูก แล้วหาค่าผลรวมของหน้าลูกเต๋าสองลูกนั้น"
   ]
  },
  {
   "cell_type": "code",
   "execution_count": 19,
   "metadata": {
    "collapsed": true
   },
   "outputs": [],
   "source": [
    "## ไม่แก้ไขข้อมูลใน cell นี้\n",
    "from random import randint\n",
    "\n",
    "class Die(object):\n",
    "    def __init__(self):\n",
    "        \"\"\" สร้างลูกเต๋า 1 ลุก 6 หน้า ที่มีค่าเริ่มต้นค่าสุ่ม 1..6 \"\"\"\n",
    "        self.__face = randint(1,6)\n",
    "    @property\n",
    "    def face(self):\n",
    "        \"\"\" return เลขหน้าลูกเต๋า 1..6 \"\"\"\n",
    "        return self.__face\n",
    "    \n",
    "    def roll(self):\n",
    "        \"\"\" ทอดลุกเต๋า เลขหน้าลูกเต๋าจะเปลี่ยนด้วยค่า random 1..6 \"\"\"\n",
    "        self.__face = randint(1,6)\n",
    "        \n",
    "    def __str__(self):\n",
    "        \"\"\" return ข้อความ str, พร้อมกับเลขหน้าลูกเต๋า \"\"\"\n",
    "        return ( \"Die face: {}\".format(self.__face) )\n",
    "        "
   ]
  },
  {
   "cell_type": "code",
   "execution_count": 20,
   "metadata": {
    "collapsed": false
   },
   "outputs": [
    {
     "data": {
      "text/plain": [
       "2"
      ]
     },
     "execution_count": 20,
     "metadata": {},
     "output_type": "execute_result"
    }
   ],
   "source": [
    "## ตัวอย่างการสร้างลูกเต๋า\n",
    "d1 = Die()\n",
    "d1.face     # เรียกใช้ @property face"
   ]
  },
  {
   "cell_type": "code",
   "execution_count": 21,
   "metadata": {
    "collapsed": false
   },
   "outputs": [
    {
     "name": "stdout",
     "output_type": "stream",
     "text": [
      "Die face: 5\n"
     ]
    }
   ],
   "source": [
    "## ตัวอย่างการสร้างลูกเต๋า\n",
    "d2 = Die()\n",
    "print(d2)     # พิมพ์ข้อมูลลูกเต๋า d2"
   ]
  },
  {
   "cell_type": "code",
   "execution_count": 22,
   "metadata": {
    "collapsed": false
   },
   "outputs": [
    {
     "name": "stdout",
     "output_type": "stream",
     "text": [
      "Help on class Die in module __main__:\n",
      "\n",
      "class Die(builtins.object)\n",
      " |  Methods defined here:\n",
      " |  \n",
      " |  __init__(self)\n",
      " |      สร้างลูกเต๋า 1 ลุก 6 หน้า ที่มีค่าเริ่มต้นค่าสุ่ม 1..6\n",
      " |  \n",
      " |  __str__(self)\n",
      " |      return ข้อความ str, พร้อมกับเลขหน้าลูกเต๋า\n",
      " |  \n",
      " |  roll(self)\n",
      " |      ทอดลุกเต๋า เลขหน้าลูกเต๋าจะเปลี่ยนด้วยค่า random 1..6\n",
      " |  \n",
      " |  ----------------------------------------------------------------------\n",
      " |  Data descriptors defined here:\n",
      " |  \n",
      " |  __dict__\n",
      " |      dictionary for instance variables (if defined)\n",
      " |  \n",
      " |  __weakref__\n",
      " |      list of weak references to the object (if defined)\n",
      " |  \n",
      " |  face\n",
      " |      return เลขหน้าลูกเต๋า 1..6\n",
      "\n"
     ]
    }
   ],
   "source": [
    "help(Die)"
   ]
  },
  {
   "cell_type": "code",
   "execution_count": 110,
   "metadata": {
    "collapsed": false
   },
   "outputs": [
    {
     "name": "stdout",
     "output_type": "stream",
     "text": [
      "6\n"
     ]
    }
   ],
   "source": [
    "## ANSWER Q4.a\n",
    "## \n",
    "## สร้างลูกเต๋าเก็บไว้ใน list ชื่อ my2dice สองลูก \n",
    "## แล้วหาค่าผลรวมของหน้าลูกเต๋าสองลูกนั้น\n",
    "##\n",
    "\n",
    "d1 = Die()\n",
    "d2 = Die()\n",
    "a=d1.face  \n",
    "b=d2.face\n",
    "print(a+b)\n"
   ]
  },
  {
   "cell_type": "markdown",
   "metadata": {},
   "source": [
    "# Q4.b\n",
    "จงปรับปรุุง def printDiceStat เพื่อหาสถิติ (เปอร์เซ็นต์) ของการทอดลูกเต๋า จำนวน 1,000 ครั้ง โดยพิมพ์สถิติของหน้าลุกเต๋าทุกหน้า 1..6`"
   ]
  },
  {
   "cell_type": "code",
   "execution_count": 78,
   "metadata": {
    "collapsed": false
   },
   "outputs": [
    {
     "ename": "IndentationError",
     "evalue": "unexpected indent (<ipython-input-78-7b68c4671865>, line 25)",
     "output_type": "error",
     "traceback": [
      "\u001b[1;36m  File \u001b[1;32m\"<ipython-input-78-7b68c4671865>\"\u001b[1;36m, line \u001b[1;32m25\u001b[0m\n\u001b[1;33m    mean(count)\u001b[0m\n\u001b[1;37m    ^\u001b[0m\n\u001b[1;31mIndentationError\u001b[0m\u001b[1;31m:\u001b[0m unexpected indent\n"
     ]
    }
   ],
   "source": [
    "## ANSWER Q4.b\n",
    "##\n",
    "##\n",
    "\n",
    "def printDiceStat( numberRolls ):\n",
    "    die = Die()\n",
    "\n",
    "    # เก็บจำนวนครั้งที่ได้หน้าูกเต๋า n ที่ index = n\n",
    "    counts = [0, 0, 0, 0, 0, 0, 0]    \n",
    "    \n",
    "    for i in range(numberRolls):\n",
    "        die.roll()\n",
    "        n = die.face\n",
    "        counts[n] += 1 \n",
    "            \n",
    "    print(\"Number of rolls: {}\".format(numberRolls))\n",
    "    print(\"Counts: {}\".format(counts))\n",
    "    \n",
    "    print(\"\\n-------------- Dice Stats ---------------\")\n",
    "    n = 1\n",
    "    percentage = 100. * counts[n] / numberRolls\n",
    "    print(\"face {} count: {:>3}, {:6.2f} %\".format( n, counts[n], percentage ))\n",
    "    \n",
    "    from statistics import *\n",
    "        mean(count)\n",
    "    \n",
    "    \n",
    "    \n",
    "\n",
    "#--- Test the def printDiceStat ---\n",
    "rolls = 1000\n",
    "printDiceStat( rolls )"
   ]
  },
  {
   "cell_type": "code",
   "execution_count": 120,
   "metadata": {
    "collapsed": false
   },
   "outputs": [
    {
     "data": {
      "text/plain": [
       "'2017-02-10T03:52:33.799249'"
      ]
     },
     "execution_count": 120,
     "metadata": {},
     "output_type": "execute_result"
    }
   ],
   "source": [
    "import datetime\n",
    "datetime.datetime.now().isoformat()\n",
    "##\n",
    "## รหัสประจำตัวนักศึกษา : 57113035-0\n",
    "##\n",
    "## แล้วคลิก Run cell ครั้งเดียว เมื่อส่งงาน"
   ]
  },
  {
   "cell_type": "code",
   "execution_count": null,
   "metadata": {
    "collapsed": true
   },
   "outputs": [],
   "source": []
  }
 ],
 "metadata": {
  "kernelspec": {
   "display_name": "Python 3",
   "language": "python",
   "name": "python3"
  },
  "language_info": {
   "codemirror_mode": {
    "name": "ipython",
    "version": 3
   },
   "file_extension": ".py",
   "mimetype": "text/x-python",
   "name": "python",
   "nbconvert_exporter": "python",
   "pygments_lexer": "ipython3",
   "version": "3.4.4"
  }
 },
 "nbformat": 4,
 "nbformat_minor": 0
}
