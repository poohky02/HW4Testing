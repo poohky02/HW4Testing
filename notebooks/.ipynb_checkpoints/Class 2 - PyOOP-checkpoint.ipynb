{
 "cells": [
  {
   "cell_type": "markdown",
   "metadata": {
    "slideshow": {
     "slide_type": "slide"
    }
   },
   "source": [
    "# Object-Oriented Concepts and Python"
   ]
  },
  {
   "cell_type": "markdown",
   "metadata": {
    "slideshow": {
     "slide_type": "fragment"
    }
   },
   "source": [
    "_Dr. Kittima Mekhabunchakij_"
   ]
  },
  {
   "cell_type": "markdown",
   "metadata": {
    "slideshow": {
     "slide_type": "slide"
    }
   },
   "source": [
    "# OOP Terminology"
   ]
  },
  {
   "cell_type": "markdown",
   "metadata": {
    "slideshow": {
     "slide_type": "subslide"
    }
   },
   "source": [
    "_Overview of OOP Terminology_\n",
    "#### Class\n",
    "A user-defined prototype for an object that defines a set of attributes that characterize any object of the class. The attributes are data members (class variables and instance variables) and methods, accessed via dot notation.\n",
    "#### Class variable\n",
    "A variable is shared by all instances of a class. Class variables are defined within a class but outside any of the class's methods. Class variables are not used as frequently as instance variables are."
   ]
  },
  {
   "cell_type": "markdown",
   "metadata": {
    "slideshow": {
     "slide_type": "subslide"
    }
   },
   "source": [
    "_Overview of OOP Terminology_\n",
    "#### Data member\n",
    "A class variable or instance variable that holds data associated with a class and its objects.\n",
    "#### Function overloading\n",
    "The assignment of more than one behavior to a particular function. The operation performed varies by the types of objects or arguments involved."
   ]
  },
  {
   "cell_type": "markdown",
   "metadata": {
    "slideshow": {
     "slide_type": "subslide"
    }
   },
   "source": [
    "_Overview of OOP Terminology_\n",
    "#### Instance variable\n",
    "A variable that is defined inside a method and belongs only to the current instance of a class.\n",
    "#### Inheritance\n",
    "The transfer of the characteristics of a class to other classes that are derived from it."
   ]
  },
  {
   "cell_type": "markdown",
   "metadata": {
    "slideshow": {
     "slide_type": "subslide"
    }
   },
   "source": [
    "#### Instance\n",
    "An individual object of a certain class. An object obj that belongs to a class Circle, for example, is an instance of the class Circle.\n",
    "#### Instantiation\n",
    "The creation of an instance of a class.\n",
    "#### Method\n",
    "A special kind of function that is defined in a class definition."
   ]
  },
  {
   "cell_type": "markdown",
   "metadata": {
    "slideshow": {
     "slide_type": "subslide"
    }
   },
   "source": [
    "#### Object\n",
    "A unique instance of a data structure that's defined by its class. An object comprises both data members (class variables and instance variables) and methods.\n",
    "\n",
    "#### Operator overloading\n",
    "The assignment of more than one function to a particular operator."
   ]
  },
  {
   "cell_type": "markdown",
   "metadata": {
    "slideshow": {
     "slide_type": "slide"
    }
   },
   "source": [
    "## Creating Classes\n",
    "- The class statement creates a new class definition. \n",
    "- The name of the class immediately follows the keyword class followed by a colon as follows "
   ]
  },
  {
   "cell_type": "markdown",
   "metadata": {
    "slideshow": {
     "slide_type": "fragment"
    }
   },
   "source": [
    "```Python\n",
    "class ClassName:\n",
    "    'Optional class documentation string'\n",
    "    class_suite\n",
    "```"
   ]
  },
  {
   "cell_type": "markdown",
   "metadata": {
    "slideshow": {
     "slide_type": "fragment"
    }
   },
   "source": [
    "- The `class` has a documentation string, which can be accessed via `ClassName.__doc__`.\n",
    "\n",
    "- The `class_suite` consists of all the component statements defining **class members**, **data attributes** and **functions**."
   ]
  },
  {
   "cell_type": "markdown",
   "metadata": {
    "slideshow": {
     "slide_type": "subslide"
    }
   },
   "source": [
    "## Example Classes"
   ]
  },
  {
   "cell_type": "markdown",
   "metadata": {
    "slideshow": {
     "slide_type": "fragment"
    }
   },
   "source": [
    "- Two simple Python classes, `Dice`, `Puppy`"
   ]
  },
  {
   "cell_type": "markdown",
   "metadata": {
    "slideshow": {
     "slide_type": "subslide"
    }
   },
   "source": [
    "### Example class: Dice"
   ]
  },
  {
   "cell_type": "code",
   "execution_count": 1,
   "metadata": {
    "collapsed": true,
    "slideshow": {
     "slide_type": "fragment"
    }
   },
   "outputs": [],
   "source": [
    "from random import randint\n",
    "\n",
    "class Dice(object):\n",
    "    face = 1\n",
    "    def __init__(self):\n",
    "        self.face = randint(1,6)\n",
    "    def roll(self):\n",
    "        self.face = randint(1,6)\n"
   ]
  },
  {
   "cell_type": "markdown",
   "metadata": {
    "slideshow": {
     "slide_type": "subslide"
    }
   },
   "source": [
    "- The variable `face` is a **class variable** whose value is shared among all instances of this class. This can be accessed as Dice.face from inside the class or outside the class.\n",
    "\n",
    "- The first method `__init__()` is a special method, which is called **class constructor** or initialization method that Python calls when you create a new instance of this class.\n",
    "\n",
    "- You declare other class methods like normal functions with the exception that the first argument to each method is `self`. Python adds the `self` argument to the list for you; you do not need to include it when you call the methods."
   ]
  },
  {
   "cell_type": "markdown",
   "metadata": {
    "slideshow": {
     "slide_type": "subslide"
    }
   },
   "source": [
    "### Example class : Puppy"
   ]
  },
  {
   "cell_type": "code",
   "execution_count": 2,
   "metadata": {
    "collapsed": true,
    "slideshow": {
     "slide_type": "fragment"
    }
   },
   "outputs": [],
   "source": [
    "class Puppy(object):\n",
    "    'Common base class for all puppies'\n",
    "    count = 0\n",
    "    \n",
    "    def __init__(self, name, color):\n",
    "        self.name = name\n",
    "        self.color = color\n",
    "        Puppy.count += 1\n",
    "        \n",
    "    def bark(self):\n",
    "        print('I am ' + self.color + ' ' + self.name)"
   ]
  },
  {
   "cell_type": "markdown",
   "metadata": {
    "slideshow": {
     "slide_type": "slide"
    }
   },
   "source": [
    "## Creating Instance Objects"
   ]
  },
  {
   "cell_type": "markdown",
   "metadata": {
    "slideshow": {
     "slide_type": "fragment"
    }
   },
   "source": [
    "- To create **instances** of a class, you call the class using class name and pass in whatever arguments its `__init__` method accepts."
   ]
  },
  {
   "cell_type": "code",
   "execution_count": 3,
   "metadata": {
    "collapsed": false,
    "slideshow": {
     "slide_type": "subslide"
    }
   },
   "outputs": [],
   "source": [
    "\"This creates an object of Dice class\"\n",
    "d1 = Dice()\n",
    "\n",
    "\"This creates an object of Puppy class\"\n",
    "p1 = Puppy('Max', 'brown')"
   ]
  },
  {
   "cell_type": "markdown",
   "metadata": {
    "slideshow": {
     "slide_type": "slide"
    }
   },
   "source": [
    "## Accessing Attributes"
   ]
  },
  {
   "cell_type": "markdown",
   "metadata": {
    "slideshow": {
     "slide_type": "subslide"
    }
   },
   "source": [
    "- We access the object's **attributes** using the _dot operator_ with object. \n",
    "- Class variable would be accessed using class name as follows:"
   ]
  },
  {
   "cell_type": "code",
   "execution_count": 4,
   "metadata": {
    "collapsed": false,
    "slideshow": {
     "slide_type": "fragment"
    }
   },
   "outputs": [
    {
     "name": "stdout",
     "output_type": "stream",
     "text": [
      "5\n"
     ]
    }
   ],
   "source": [
    "print(d1.face)      # object attribute face "
   ]
  },
  {
   "cell_type": "code",
   "execution_count": 5,
   "metadata": {
    "collapsed": false,
    "slideshow": {
     "slide_type": "fragment"
    }
   },
   "outputs": [
    {
     "name": "stdout",
     "output_type": "stream",
     "text": [
      "I am brown Max\n",
      "I am black Ruby\n",
      "2\n"
     ]
    }
   ],
   "source": [
    "p2 = Puppy('Ruby', 'black')\n",
    "\n",
    "# Invoking a Method bark()\n",
    "p1.bark()\n",
    "p2.bark()\n",
    "\n",
    "print(Puppy.count)"
   ]
  },
  {
   "cell_type": "markdown",
   "metadata": {
    "slideshow": {
     "slide_type": "slide"
    }
   },
   "source": [
    "## Built-In Class Attributes"
   ]
  },
  {
   "cell_type": "markdown",
   "metadata": {
    "slideshow": {
     "slide_type": "fragment"
    }
   },
   "source": [
    "Every Python class keeps following built-in attributes and they can be accessed using dot operator like any other attribute.\n",
    "- `__dict__`  : Dictionary containing the _class's' namespace_.\n",
    "- `__doc__`  : Class documentation string or none, if undefined.\n",
    "- `__name__`  : Class name.\n",
    "- `__module__`  : Module name in which the class is defined. This attribute is `__main__` in interactive mode.\n",
    "- `__bases__`  : A possibly empty tuple containing the base classes, in the order of their occurrence in the base class list."
   ]
  },
  {
   "cell_type": "code",
   "execution_count": 6,
   "metadata": {
    "collapsed": false,
    "slideshow": {
     "slide_type": "subslide"
    }
   },
   "outputs": [
    {
     "data": {
      "text/plain": [
       "'Common base class for all puppies'"
      ]
     },
     "execution_count": 6,
     "metadata": {},
     "output_type": "execute_result"
    }
   ],
   "source": [
    "Puppy.__doc__"
   ]
  },
  {
   "cell_type": "code",
   "execution_count": 7,
   "metadata": {
    "collapsed": false,
    "slideshow": {
     "slide_type": "fragment"
    }
   },
   "outputs": [
    {
     "data": {
      "text/plain": [
       "mappingproxy({'__weakref__': <attribute '__weakref__' of 'Puppy' objects>, 'bark': <function Puppy.bark at 0x037F2390>, '__module__': '__main__', '__doc__': 'Common base class for all puppies', 'count': 2, '__init__': <function Puppy.__init__ at 0x037F23D8>, '__dict__': <attribute '__dict__' of 'Puppy' objects>})"
      ]
     },
     "execution_count": 7,
     "metadata": {},
     "output_type": "execute_result"
    }
   ],
   "source": [
    "Puppy.__dict__"
   ]
  },
  {
   "cell_type": "code",
   "execution_count": 8,
   "metadata": {
    "collapsed": false,
    "slideshow": {
     "slide_type": "fragment"
    }
   },
   "outputs": [
    {
     "data": {
      "text/plain": [
       "'Dice'"
      ]
     },
     "execution_count": 8,
     "metadata": {},
     "output_type": "execute_result"
    }
   ],
   "source": [
    "Dice.__name__"
   ]
  },
  {
   "cell_type": "code",
   "execution_count": 9,
   "metadata": {
    "collapsed": false,
    "slideshow": {
     "slide_type": "fragment"
    }
   },
   "outputs": [
    {
     "data": {
      "text/plain": [
       "(object,)"
      ]
     },
     "execution_count": 9,
     "metadata": {},
     "output_type": "execute_result"
    }
   ],
   "source": [
    "Dice.__bases__"
   ]
  },
  {
   "cell_type": "markdown",
   "metadata": {
    "slideshow": {
     "slide_type": "slide"
    }
   },
   "source": [
    "## Class example: Ball \n",
    "- An example class with more more attribues and methods\n",
    "\n",
    "<img src=\"images/UML_class_Ball.png\" tooltip='Ball in UML class' width='200'>"
   ]
  },
  {
   "cell_type": "code",
   "execution_count": 10,
   "metadata": {
    "collapsed": true,
    "slideshow": {
     "slide_type": "subslide"
    }
   },
   "outputs": [],
   "source": [
    "import pygame \n",
    "\n",
    "class Ball():\n",
    "    def __init__(self):\n",
    "        # --- Class Attributes: a ball's position ---\n",
    "        self.x = 0\n",
    "        self.y = 0\n",
    " \n",
    "        # a ball's vector\n",
    "        self.change_x = 0\n",
    "        self.change_y = 0\n",
    " \n",
    "        # a ball's size\n",
    "        self.size = 10\n",
    " \n",
    "        # a ball's default color\n",
    "        self.color = [255,255,255]\n",
    " \n",
    "    # --- Class Methods ---\n",
    "    def move(self):\n",
    "        self.x += self.change_x\n",
    "        self.y += self.change_y\n",
    " \n",
    "    def draw(self, screen):\n",
    "        pygame.draw.circle(screen, self.color, [self.x, self.y], self.size )\n",
    "        "
   ]
  },
  {
   "cell_type": "code",
   "execution_count": 11,
   "metadata": {
    "collapsed": true,
    "slideshow": {
     "slide_type": "subslide"
    }
   },
   "outputs": [],
   "source": [
    "b1 = Ball()\n",
    "b1.change_x = 2\n",
    "b1.change_x = 2\n"
   ]
  },
  {
   "cell_type": "markdown",
   "metadata": {
    "slideshow": {
     "slide_type": "subslide"
    }
   },
   "source": [
    "## Installing PyGame\n",
    "\n",
    "- Download wheel file from this sits, http://www.lfd.uci.edu/~gohlke/pythonlibs/#pygame\n",
    "\n",
    "- pip install `the_wheel_file`\n",
    "  - for example: `pip install pygame-1.9.2a0-cp34-none-win32`\n"
   ]
  },
  {
   "cell_type": "code",
   "execution_count": 13,
   "metadata": {
    "collapsed": false,
    "slideshow": {
     "slide_type": "subslide"
    }
   },
   "outputs": [
    {
     "ename": "SystemExit",
     "evalue": "",
     "output_type": "error",
     "traceback": [
      "An exception has occurred, use %tb to see the full traceback.\n",
      "\u001b[1;31mSystemExit\u001b[0m\n"
     ]
    },
    {
     "name": "stderr",
     "output_type": "stream",
     "text": [
      "To exit: use 'exit', 'quit', or Ctrl-D.\n"
     ]
    }
   ],
   "source": [
    "import pygame\n",
    "from pygame.locals import *\n",
    "from sys import exit\n",
    "\n",
    "pygame.init() \n",
    "SCREEN_SIZE = (800, 600)\n",
    "screen = pygame.display.set_mode(SCREEN_SIZE, 0, 32)\n",
    "\n",
    "b1 = Ball()\n",
    "#b1.change_x = 2\n",
    "#b1.change_x = 2\n",
    "#b1.set_color([96,255,255])\n",
    "b1.size = 20\n",
    "b1.move()\n",
    "\n",
    "while True:\n",
    "    for event in pygame.event.get():\n",
    "        if event.type == QUIT:\n",
    "            pygame.quit()\n",
    "            exit()\n",
    "        #print(event)\n",
    "    pygame.display.update()\n"
   ]
  },
  {
   "cell_type": "markdown",
   "metadata": {
    "slideshow": {
     "slide_type": "slide"
    }
   },
   "source": [
    "# Using Class Attributes and Static Methods"
   ]
  },
  {
   "cell_type": "markdown",
   "metadata": {
    "slideshow": {
     "slide_type": "fragment"
    }
   },
   "source": [
    "### Class attribute\n",
    "A single attribute that’s associated with a class itself (not an instance!)\n",
    "\n",
    "\n",
    "### Static method\n",
    "A method that’s associated with a class itself"
   ]
  },
  {
   "cell_type": "markdown",
   "metadata": {
    "slideshow": {
     "slide_type": "subslide"
    }
   },
   "source": [
    "### Class Attributes and Static Methods\n",
    "- **Class attribute** could be used for counting the total number of objects instantiated, for example\n",
    "\n",
    "\n",
    "```Python\n",
    "class Puppy(object):\n",
    "    'Common base class for all puppies'\n",
    "    count = 0\n",
    "    \n",
    "    def __init__(self, name, color):\n",
    "        # ...\n",
    "        Puppy.count += 1\n",
    "```\n",
    "\n",
    "- **Static methods** often work with class attributes\n",
    "\n",
    "```Python\n",
    "    def status():\n",
    "        print(\"Number of puppies {}\".format( Puppy.count ))\n",
    "```\n"
   ]
  },
  {
   "cell_type": "code",
   "execution_count": 13,
   "metadata": {
    "collapsed": true,
    "slideshow": {
     "slide_type": "subslide"
    }
   },
   "outputs": [],
   "source": [
    "# A revision of Puppy class\n",
    "\n",
    "class Puppy(object):\n",
    "    'Common base class for all puppies'\n",
    "    count = 0\n",
    "    \n",
    "    def __init__(self, name, color):\n",
    "        self.name = name\n",
    "        self.color = color\n",
    "        Puppy.count += 1\n",
    "        \n",
    "    def bark(self):\n",
    "        print('I am ' + self.color + ' ' + self.name)\n",
    "        \n",
    "    def status():\n",
    "        print(\"Number of puppies {}\".format( Puppy.count ))"
   ]
  },
  {
   "cell_type": "code",
   "execution_count": 14,
   "metadata": {
    "collapsed": false,
    "slideshow": {
     "slide_type": "fragment"
    }
   },
   "outputs": [
    {
     "name": "stdout",
     "output_type": "stream",
     "text": [
      "Number of puppies 3\n"
     ]
    }
   ],
   "source": [
    "p1 = Puppy('Max', 'brown')\n",
    "p2 = Puppy('Ruby', 'black')\n",
    "p3 = Puppy('Sandy', 'white')\n",
    "\n",
    "Puppy.status()"
   ]
  },
  {
   "cell_type": "code",
   "execution_count": null,
   "metadata": {
    "collapsed": true,
    "slideshow": {
     "slide_type": "slide"
    }
   },
   "outputs": [],
   "source": []
  },
  {
   "cell_type": "markdown",
   "metadata": {
    "slideshow": {
     "slide_type": "slide"
    }
   },
   "source": [
    "## Encapsulation\n",
    "- Information Hiding"
   ]
  },
  {
   "cell_type": "markdown",
   "metadata": {
    "slideshow": {
     "slide_type": "fragment"
    }
   },
   "source": [
    "#### Client code should \n",
    "- communicate with objects through method parameters and return values  \n",
    "- avoid directly altering value of an object’s attribute\n",
    "\n",
    "#### Objects should\n",
    "- update their own attributes\n",
    "- keep themselves safe by providing indirect access to attributes through methods"
   ]
  },
  {
   "cell_type": "markdown",
   "metadata": {
    "collapsed": true,
    "slideshow": {
     "slide_type": "subslide"
    }
   },
   "source": [
    "## Private vs Public Attributes and Methods"
   ]
  },
  {
   "cell_type": "markdown",
   "metadata": {
    "slideshow": {
     "slide_type": "fragment"
    }
   },
   "source": [
    "- **Public**: Can be directly accessed by client code\n",
    "- **Private**: Cannot be directly accessed (easily) by client code\n",
    "- **Public** attribute or method can be accessed by client code\n",
    "\n",
    "- **Private** attribute or method _cannot_ be (easily) accessed by client code\n",
    "\n",
    "- By default, all attributes and methods are public But, can define an attribute or method as private"
   ]
  },
  {
   "cell_type": "markdown",
   "metadata": {
    "slideshow": {
     "slide_type": "slide"
    }
   },
   "source": [
    "## Creating Private Attributes"
   ]
  },
  {
   "cell_type": "code",
   "execution_count": 15,
   "metadata": {
    "collapsed": true,
    "slideshow": {
     "slide_type": "fragment"
    }
   },
   "outputs": [],
   "source": [
    "class BankAccount(object):\n",
    "    def __init__(self, name, amount=100.0):\n",
    "        self.__name    = name\n",
    "        self.__balance = amount\n",
    "        \n",
    "    def debit(self, amount):\n",
    "        self.__balance += amount\n",
    "\n",
    "    def credit(self, amount):\n",
    "        self.__balance -= amount"
   ]
  },
  {
   "cell_type": "markdown",
   "metadata": {
    "slideshow": {
     "slide_type": "fragment"
    }
   },
   "source": [
    "`__name` and `__balance` are private attributes.\n",
    "\n",
    "- Two underscore characters make private attribute\n",
    "- Begin any attribute with two underscores to make private"
   ]
  },
  {
   "cell_type": "markdown",
   "metadata": {
    "slideshow": {
     "slide_type": "slide"
    }
   },
   "source": [
    "## Accessing Private Attributes"
   ]
  },
  {
   "cell_type": "code",
   "execution_count": 16,
   "metadata": {
    "collapsed": true,
    "slideshow": {
     "slide_type": "fragment"
    }
   },
   "outputs": [],
   "source": [
    "class BankAccount(object):\n",
    "    def __init__(self, name, amount=100.0):\n",
    "        self.__name    = name\n",
    "        self.__balance = amount\n",
    "    def debit(self, amount):\n",
    "        self.__balance += amount\n",
    "    def credit(self, amount):\n",
    "        self.__balance -= amount\n",
    "        \n",
    "    def balance(self):\n",
    "        return self.__balance\n",
    "    def __repr__(self):\n",
    "        s = 'The balance of Bank Account {:16} is {:14,.2f}'.format(\\\n",
    "                    self.__name, self.__balance)\n",
    "        return s"
   ]
  },
  {
   "cell_type": "code",
   "execution_count": 17,
   "metadata": {
    "collapsed": false,
    "slideshow": {
     "slide_type": "subslide"
    }
   },
   "outputs": [
    {
     "name": "stdout",
     "output_type": "stream",
     "text": [
      "The balance of Bank Account Kittima          is         100.00\n",
      "The balance of Bank Account Siriporn         is       1,500.00\n"
     ]
    }
   ],
   "source": [
    "myacct  = BankAccount('Kittima')\n",
    "sisacct = BankAccount('Siriporn', amount=1500.)\n",
    "\n",
    "print(myacct)\n",
    "print(sisacct)"
   ]
  },
  {
   "cell_type": "markdown",
   "metadata": {
    "slideshow": {
     "slide_type": "slide"
    }
   },
   "source": [
    "### Private attributes\n",
    "\n",
    "- Can be accessed inside the class \n",
    "- Can’t be accessed directly through object\n",
    "  - `myacct.__balance` won’t work"
   ]
  },
  {
   "cell_type": "markdown",
   "metadata": {
    "slideshow": {
     "slide_type": "fragment"
    }
   },
   "source": [
    "- Technically possible to access through object, but shouldn’t \n",
    "```python\n",
    "    myacct._BankAccount__balance # instance._classname__variable\n",
    "```\n",
    "- Pseudo-encapsulation cannot really protect data from hostile code \n"
   ]
  },
  {
   "cell_type": "markdown",
   "metadata": {
    "slideshow": {
     "slide_type": "slide"
    }
   },
   "source": [
    "## Creating Private Methods"
   ]
  },
  {
   "cell_type": "code",
   "execution_count": 18,
   "metadata": {
    "collapsed": true,
    "slideshow": {
     "slide_type": "fragment"
    }
   },
   "outputs": [],
   "source": [
    "from random import randint\n",
    "class Dice(object): \n",
    "    def __init__(self):\n",
    "        self.__set_face()\n",
    "    def roll(self):\n",
    "        self.__set_face()\n",
    "        \n",
    "    # private method __set_face()  \n",
    "    def __set_face(self):\n",
    "        self.__face = randint(1,6) \n",
    "        \n",
    "    def face(self):\n",
    "        return self.__face"
   ]
  },
  {
   "cell_type": "markdown",
   "metadata": {
    "slideshow": {
     "slide_type": "fragment"
    }
   },
   "source": [
    "- Like private attributes, private methods defined by two leading underscores in name \n",
    "- `__private_method()` is a private method\n"
   ]
  },
  {
   "cell_type": "code",
   "execution_count": 19,
   "metadata": {
    "collapsed": false,
    "slideshow": {
     "slide_type": "subslide"
    }
   },
   "outputs": [
    {
     "name": "stdout",
     "output_type": "stream",
     "text": [
      "3\n",
      "5\n"
     ]
    }
   ],
   "source": [
    "d1 = Dice()\n",
    "print(d1.face())\n",
    "d1.roll()\n",
    "print(d1.face())"
   ]
  },
  {
   "cell_type": "markdown",
   "metadata": {
    "slideshow": {
     "slide_type": "slide"
    }
   },
   "source": [
    "## Using Properties"
   ]
  },
  {
   "cell_type": "code",
   "execution_count": 20,
   "metadata": {
    "collapsed": true,
    "slideshow": {
     "slide_type": "fragment"
    }
   },
   "outputs": [],
   "source": [
    "from random import randint\n",
    "class Dice(object): \n",
    "    def __init__(self):\n",
    "        self.__set_face()\n",
    "        \n",
    "    def roll(self):\n",
    "        self.__set_face()\n",
    "         \n",
    "    def __set_face(self):\n",
    "        self.__face = randint(1,6) \n",
    "    \n",
    "    @property\n",
    "    def face(self):\n",
    "        return self.__face"
   ]
  },
  {
   "cell_type": "code",
   "execution_count": 21,
   "metadata": {
    "collapsed": false,
    "slideshow": {
     "slide_type": "fragment"
    }
   },
   "outputs": [
    {
     "name": "stdout",
     "output_type": "stream",
     "text": [
      "3\n"
     ]
    }
   ],
   "source": [
    "d1 = Dice()\n",
    "print(d1.face)"
   ]
  },
  {
   "cell_type": "markdown",
   "metadata": {
    "slideshow": {
     "slide_type": "slide"
    }
   },
   "source": [
    "# Inheritance"
   ]
  },
  {
   "cell_type": "code",
   "execution_count": null,
   "metadata": {
    "collapsed": true,
    "slideshow": {
     "slide_type": "skip"
    }
   },
   "outputs": [],
   "source": []
  },
  {
   "cell_type": "markdown",
   "metadata": {
    "slideshow": {
     "slide_type": "fragment"
    }
   },
   "source": [
    "**References:**\n",
    "\n",
    "&mdash; [UML basics: The class diagram](http://www.ibm.com/developerworks/rational/library/content/RationalEdge/sep04/bell/), Donald Bell, IBM Corporation (2004).\n",
    "\n",
    "&mdash; [Exercise 44: Inheritance Versus Composition](http://learnpythonthehardway.org/book/ex44.html), Learnp Pthon the Hard Way\n",
    "    "
   ]
  },
  {
   "cell_type": "markdown",
   "metadata": {
    "slideshow": {
     "slide_type": "slide"
    }
   },
   "source": [
    "## Animal and Subclasses\n",
    "\n",
    "<img src=\"images/Animal_UMLClass.png\" width=\"360\">"
   ]
  },
  {
   "cell_type": "code",
   "execution_count": 22,
   "metadata": {
    "collapsed": true,
    "slideshow": {
     "slide_type": "fragment"
    }
   },
   "outputs": [],
   "source": [
    "class Animal(object):\n",
    "    def __init__(self, name):    # Constructor\n",
    "        self.name = name\n",
    "    def get_name(self):\n",
    "        return self.name\n",
    "class Cat(Animal):\n",
    "    def talk(self):\n",
    "        return 'Meow!'\n",
    "class Dog(Animal):\n",
    "    def talk(self):\n",
    "        return 'Woof! Woof!'"
   ]
  },
  {
   "cell_type": "code",
   "execution_count": 23,
   "metadata": {
    "collapsed": false,
    "slideshow": {
     "slide_type": "subslide"
    }
   },
   "outputs": [
    {
     "name": "stdout",
     "output_type": "stream",
     "text": [
      "Jangles : Meow!\n",
      "Lassie : Woof! Woof!\n",
      "Missy : Meow!\n"
     ]
    }
   ],
   "source": [
    "animals = [Cat('Jangles'), Dog('Lassie'), Cat('Missy')]\n",
    "\n",
    "for animal in animals:\n",
    "    print(animal.get_name() + ' : ' + animal.talk() )"
   ]
  },
  {
   "cell_type": "markdown",
   "metadata": {
    "slideshow": {
     "slide_type": "slide"
    }
   },
   "source": [
    "## Method Overriding\n",
    "***Altering the Behavior of Inherited Methods***\n",
    "\n",
    "- Override: To redefine how inherited method of base class works in derived class\n",
    "- Two choices when overriding\n",
    "\n",
    "  a. Completely new functionality vs. overridden method\n",
    "  \n",
    "  b. Incorporate functionality of overridden method, add more"
   ]
  },
  {
   "cell_type": "markdown",
   "metadata": {
    "slideshow": {
     "slide_type": "subslide"
    }
   },
   "source": [
    "### Method Overiding\n",
    "- Completely new functionality"
   ]
  },
  {
   "cell_type": "code",
   "execution_count": 24,
   "metadata": {
    "collapsed": true,
    "slideshow": {
     "slide_type": "fragment"
    }
   },
   "outputs": [],
   "source": [
    "class Animal(object):\n",
    "    def __init__(self, name):    # Constructor\n",
    "        self.name = name\n",
    "    def get_name(self):\n",
    "        return self.name\n",
    "    def talk(self):\n",
    "        return 'Hello!'\n",
    "\n",
    "class Cat(Animal):\n",
    "    def talk(self):\n",
    "        return 'Meow!'"
   ]
  },
  {
   "cell_type": "code",
   "execution_count": 25,
   "metadata": {
    "collapsed": false,
    "slideshow": {
     "slide_type": "fragment"
    }
   },
   "outputs": [
    {
     "name": "stdout",
     "output_type": "stream",
     "text": [
      "Hello!\n",
      "Meow!\n"
     ]
    }
   ],
   "source": [
    "an = Animal('');     print(an.talk())\n",
    "ja = Cat('Jangles'); print(ja.talk())"
   ]
  },
  {
   "cell_type": "markdown",
   "metadata": {
    "collapsed": true,
    "slideshow": {
     "slide_type": "subslide"
    }
   },
   "source": [
    "### Object Comparison\n",
    "_Animal A > Animal B?_"
   ]
  },
  {
   "cell_type": "code",
   "execution_count": 26,
   "metadata": {
    "collapsed": true,
    "slideshow": {
     "slide_type": "fragment"
    }
   },
   "outputs": [],
   "source": [
    "class Animal(object):\n",
    "    def __init__(self, name, age):    # Constructor\n",
    "        self.name = name\n",
    "        self.age = age\n",
    "        \n",
    "    def __gt__(self, other):\n",
    "        'override comparison operators'\n",
    "        return self.age > other.age"
   ]
  },
  {
   "cell_type": "code",
   "execution_count": 27,
   "metadata": {
    "collapsed": false,
    "slideshow": {
     "slide_type": "fragment"
    }
   },
   "outputs": [
    {
     "data": {
      "text/plain": [
       "True"
      ]
     },
     "execution_count": 27,
     "metadata": {},
     "output_type": "execute_result"
    }
   ],
   "source": [
    "Animal('Missy', 4) > Animal('Lassie', 3)"
   ]
  },
  {
   "cell_type": "markdown",
   "metadata": {
    "slideshow": {
     "slide_type": "slide"
    }
   },
   "source": [
    "### Method Overiding\n",
    "_Overriding to Add More_\n",
    "\n",
    "- One can incorporate inherited method’s functionality in overridden method \n",
    "\n",
    "```python\n",
    "\n",
    "class Card(object):\n",
    "    # ...\n",
    "\n",
    "class Positionable_Card(Card):\n",
    "    def __init__(self, rank, suit, face_up = True):\n",
    "\n",
    "        # invoke parent’s method by calling super()\n",
    "        super(Positionable_Card, self).__init__(rank, suit)\n",
    " \n",
    "        self.is_face_up = face_up\n",
    "```"
   ]
  },
  {
   "cell_type": "markdown",
   "metadata": {
    "slideshow": {
     "slide_type": "fragment"
    }
   },
   "source": [
    "- `super` : Superclass - another name for a base class\n",
    "- `Card` is the superclass of `Positionable_Card`"
   ]
  },
  {
   "cell_type": "code",
   "execution_count": 28,
   "metadata": {
    "collapsed": true,
    "slideshow": {
     "slide_type": "subslide"
    }
   },
   "outputs": [],
   "source": [
    "class Card(object):\n",
    "    \"\"\" A playing card. \"\"\"\n",
    "    RANKS = [\"A\", \"2\", \"3\", \"4\", \"5\", \"6\", \"7\",\n",
    "             \"8\", \"9\", \"10\", \"J\", \"Q\", \"K\"]\n",
    "    SUITS = [\"c\", \"d\", \"h\", \"s\"]\n",
    "    \n",
    "    def __init__(self, rank, suit):\n",
    "        self.rank = rank \n",
    "        self.suit = suit\n",
    "\n",
    "    def __str__(self):\n",
    "        rep = self.rank + self.suit\n",
    "        return rep"
   ]
  },
  {
   "cell_type": "code",
   "execution_count": 32,
   "metadata": {
    "collapsed": false,
    "slideshow": {
     "slide_type": "subslide"
    }
   },
   "outputs": [],
   "source": [
    "class Positionable_Card(Card):\n",
    "    \"\"\" A Card that can be face up or face down. \"\"\"\n",
    "    def __init__(self, rank, suit, face_up = False):\n",
    "        super(Positionable_Card, self).__init__(rank, suit)\n",
    "        self.is_face_up = face_up\n",
    "\n",
    "    def __str__(self):\n",
    "        if self.is_face_up:\n",
    "            rep = super(Positionable_Card, self).__str__()\n",
    "        else:\n",
    "            rep = \"▊▊\"\n",
    "        return rep\n",
    "\n",
    "    def flip(self):\n",
    "        self.is_face_up = not self.is_face_up"
   ]
  },
  {
   "cell_type": "code",
   "execution_count": 33,
   "metadata": {
    "collapsed": false,
    "slideshow": {
     "slide_type": "subslide"
    }
   },
   "outputs": [
    {
     "name": "stdout",
     "output_type": "stream",
     "text": [
      "Ac Ah ▊▊\n"
     ]
    }
   ],
   "source": [
    "card1 = Card(\"A\", \"c\")\n",
    "card2 = Positionable_Card(\"A\", \"h\")\n",
    "card3 = Positionable_Card(\"A\", \"d\")\n",
    "\n",
    "card2.flip()\n",
    "print(card1, card2, card3)"
   ]
  },
  {
   "cell_type": "code",
   "execution_count": 34,
   "metadata": {
    "collapsed": false,
    "slideshow": {
     "slide_type": "fragment"
    }
   },
   "outputs": [
    {
     "name": "stdout",
     "output_type": "stream",
     "text": [
      "Ac ▊▊ Ad\n"
     ]
    }
   ],
   "source": [
    "card2.flip()\n",
    "card3.flip()\n",
    "print(card1, card2, card3)"
   ]
  },
  {
   "cell_type": "markdown",
   "metadata": {
    "slideshow": {
     "slide_type": "subslide"
    }
   },
   "source": [
    "## Invoking Base Class Methods"
   ]
  },
  {
   "cell_type": "markdown",
   "metadata": {
    "slideshow": {
     "slide_type": "fragment"
    }
   },
   "source": [
    "- Incorporate inherited method’s functionality by calling `super()`\n",
    "\n",
    "- `Positionable_Card` constructor invokes `Card` constructor and creates new attribute\n",
    "\n",
    "- `super()` lets you invoke the method of a superclass \n",
    "  - First argument is the class name, `Positionable_Card`\n",
    "  - Second is reference to object itself, `self`\n",
    "  - Last is superclass method to call with parameters sent, `__init__(rank, suit)`"
   ]
  },
  {
   "cell_type": "markdown",
   "metadata": {
    "collapsed": true,
    "slideshow": {
     "slide_type": "slide"
    }
   },
   "source": [
    "## Polymorphism"
   ]
  },
  {
   "cell_type": "markdown",
   "metadata": {
    "slideshow": {
     "slide_type": "fragment"
    }
   },
   "source": [
    "- ***Polymorphism*** : Aspect of object-oriented programming that allows us to send same message to objects of different classes, related by inheritance, and achieve different but appropriate results for each object\n",
    "\n",
    "- When invoking `talk()` method of `Cat` object, we get different result from the same method of a `Animal` (or `Dog`) object "
   ]
  },
  {
   "cell_type": "code",
   "execution_count": null,
   "metadata": {
    "collapsed": true,
    "slideshow": {
     "slide_type": "skip"
    }
   },
   "outputs": [],
   "source": []
  },
  {
   "cell_type": "markdown",
   "metadata": {
    "collapsed": true,
    "slideshow": {
     "slide_type": "slide"
    }
   },
   "source": [
    "## Working with Multiple Objects\n",
    "- We can have multiple objects in a program\n",
    "- **Message**: Communication between objects\n",
    "  - One object sends another a message when it invokes a method of the other\n",
    "  - (We already know that we can exchange information among functions through parameters and return values)\n"
   ]
  },
  {
   "cell_type": "markdown",
   "metadata": {
    "slideshow": {
     "slide_type": "subslide"
    }
   },
   "source": [
    "### Alien Blaster Program\n",
    "\n",
    "- Source code: [alien_blaster](src/cardgames/alien_blaster.py)\n",
    "\n",
    "<img src=\"images/alien_blaster_message.png\" width=\"400\" style=\"align:center\">\n"
   ]
  },
  {
   "cell_type": "code",
   "execution_count": 13,
   "metadata": {
    "collapsed": false,
    "slideshow": {
     "slide_type": "subslide"
    }
   },
   "outputs": [
    {
     "name": "stdout",
     "output_type": "stream",
     "text": [
      "\t\tDeath of an Alien\n",
      "\n",
      "The player blasts an enemy.\n",
      "\n",
      "The alien gasps and says, 'Oh, this is it.  This is the big one. \n",
      "Yes, it's getting dark now.  Tell my 1.6 million larvae that I loved them... \n",
      "Good-bye, cruel universe.'\n",
      "\n",
      "\n",
      "Press the enter key to exit.\n"
     ]
    },
    {
     "data": {
      "text/plain": [
       "''"
      ]
     },
     "execution_count": 13,
     "metadata": {},
     "output_type": "execute_result"
    }
   ],
   "source": [
    "# %load src\\cardgames\\alien_blaster.py\n",
    "# Alien Blaster\n",
    "# Demonstrates object interaction\n",
    "\n",
    "class Player(object):\n",
    "    \"\"\" A player in a shooter game. \"\"\"\n",
    "    def blast(self, enemy):\n",
    "        print \"The player blasts an enemy.\\n\"\n",
    "        enemy.die()\n",
    "\n",
    "\n",
    "class Alien(object):\n",
    "    \"\"\" An alien in a shooter game. \"\"\"\n",
    "    def die(self):\n",
    "        print \"The alien gasps and says, 'Oh, this is it.  This is the big one. \\n\" \\\n",
    "              \"Yes, it's getting dark now.  Tell my 1.6 million larvae that I loved them... \\n\" \\\n",
    "              \"Good-bye, cruel universe.'\"\n",
    "\n",
    "# main\n",
    "print \"\\t\\tDeath of an Alien\\n\"\n",
    "\n",
    "hero = Player()\n",
    "invader = Alien()\n",
    "hero.blast(invader)\n",
    "\n",
    "raw_input(\"\\n\\nPress the enter key to exit.\")\n"
   ]
  },
  {
   "cell_type": "markdown",
   "metadata": {
    "slideshow": {
     "slide_type": "slide"
    }
   },
   "source": [
    "### end of IPYnb"
   ]
  }
 ],
 "metadata": {
  "celltoolbar": "Slideshow",
  "kernelspec": {
   "display_name": "Python 2",
   "language": "python",
   "name": "python2"
  },
  "language_info": {
   "codemirror_mode": {
    "name": "ipython",
    "version": 2
   },
   "file_extension": ".py",
   "mimetype": "text/x-python",
   "name": "python",
   "nbconvert_exporter": "python",
   "pygments_lexer": "ipython2",
   "version": "2.7.11"
  }
 },
 "nbformat": 4,
 "nbformat_minor": 0
}
